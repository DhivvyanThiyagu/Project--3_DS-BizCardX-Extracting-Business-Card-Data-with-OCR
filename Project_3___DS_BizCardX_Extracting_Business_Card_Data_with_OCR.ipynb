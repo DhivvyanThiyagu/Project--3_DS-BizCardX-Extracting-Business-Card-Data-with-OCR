{
  "nbformat": 4,
  "nbformat_minor": 0,
  "metadata": {
    "colab": {
      "provenance": [],
      "authorship_tag": "ABX9TyNRAADoGB4+jEsbr2kwPqdp",
      "include_colab_link": true
    },
    "kernelspec": {
      "name": "python3",
      "display_name": "Python 3"
    },
    "language_info": {
      "name": "python"
    }
  },
  "cells": [
    {
      "cell_type": "markdown",
      "metadata": {
        "id": "view-in-github",
        "colab_type": "text"
      },
      "source": [
        "<a href=\"https://colab.research.google.com/github/DhivvyanThiyagu/Project--3_DS-BizCardX-Extracting-Business-Card-Data-with-OCR/blob/main/Project_3___DS_BizCardX_Extracting_Business_Card_Data_with_OCR.ipynb\" target=\"_parent\"><img src=\"https://colab.research.google.com/assets/colab-badge.svg\" alt=\"Open In Colab\"/></a>"
      ]
    },
    {
      "cell_type": "code",
      "source": [
        "!pip install streamlit\n",
        "!pip install easyocr"
      ],
      "metadata": {
        "id": "cWNGLU2p68Fb"
      },
      "execution_count": null,
      "outputs": []
    },
    {
      "cell_type": "code",
      "execution_count": null,
      "metadata": {
        "id": "6f-TZUPI1Rmp"
      },
      "outputs": [],
      "source": [
        "import streamlit as st\n",
        "import easyocr as ocr\n",
        "import sqlite3\n",
        "\n",
        "uploaded_file = st.file_uploader(\"Upload a business card image\", type=[\"jpg\", \"jpeg\", \"png\"])\n",
        "if st.button(\"Extract Information\"):\n",
        "    if uploaded_file is not None:\n",
        "        image = uploaded_file.read()\n",
        "        reader = ocr.Reader(['en'])\n",
        "        results = reader.readtext(image)      \n",
        "        st.write(\"Extracted Information:\")\n",
        "        table_data = [[result[0], result[1]] for result in results]\n",
        "        st.table(table_data) \n",
        "        conn = sqlite3.connect('business_cards.db')\n",
        "        c = conn.cursor()\n",
        "        c.execute('CREATE TABLE IF NOT EXISTS business_cards (id INTEGER PRIMARY KEY, image BLOB, name TEXT, email TEXT, phone TEXT)')\n",
        "        name = \"\"\n",
        "        email = \"\"\n",
        "        phone = \"\"\n",
        "        for result in results:\n",
        "            if \"name\" in result[1].lower():\n",
        "                name = result[1].split(\"name\")[-1].strip()\n",
        "            elif \"email\" in result[1].lower():\n",
        "                email = result[1].split(\"email\")[-1].strip()\n",
        "            elif \"phone\" in result[1].lower():\n",
        "                phone = result[1].split(\"phone\")[-1].strip()\n",
        "        c.execute(\"INSERT INTO business_cards (image, name, email, phone) VALUES (?, ?, ?, ?)\", (sqlite3.Binary(image), name, email, phone))\n",
        "        conn.commit()\n",
        "        conn.close()\n",
        "    else:\n",
        "        st.write(\"Please upload an image before extracting information.\")"
      ]
    },
    {
      "cell_type": "code",
      "source": [],
      "metadata": {
        "id": "b9C7hBXe67GE"
      },
      "execution_count": null,
      "outputs": []
    },
    {
      "cell_type": "code",
      "source": [],
      "metadata": {
        "id": "7plWmurm2Hmx"
      },
      "execution_count": null,
      "outputs": []
    }
  ]
}